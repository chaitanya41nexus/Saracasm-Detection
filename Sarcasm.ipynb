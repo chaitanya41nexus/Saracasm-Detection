{
 "cells": [
  {
   "cell_type": "code",
   "execution_count": 2,
   "metadata": {},
   "outputs": [],
   "source": [
    "import os\n",
    "import sys\n",
    "import tweepy"
   ]
  },
  {
   "cell_type": "code",
   "execution_count": 3,
   "metadata": {},
   "outputs": [],
   "source": [
    "consumer_key = \"23yKHMkXpuKJcQUcerO0yHwP0\"\n",
    "consumer_secret = \"BYZg0qFzb2gwFjJqx09C7oWo2olFRN3Wfgu62FU4aVCTFlrgt9\"\n",
    "access_token = \"1199635731527983104-6kg4PNCcsgBjsX7vdGLnL2zvT4MeQh\"\n",
    "access_token_secret = \"fS2l0tnHCqV754tavS6CmmR44IFYXesSbbmWm6silueXE\""
   ]
  },
  {
   "cell_type": "code",
   "execution_count": 5,
   "metadata": {},
   "outputs": [],
   "source": [
    "auth = tweepy.OAuthHandler('consumer_key', 'consumer_secret')\n",
    "auth.set_access_token('access_token', 'access_token_secret')\n",
    "api = tweepy.API(auth)\n"
   ]
  },
  {
   "cell_type": "code",
   "execution_count": 4,
   "metadata": {},
   "outputs": [
    {
     "name": "stdout",
     "output_type": "stream",
     "text": [
      "Usage: twitter.py [auth|sample]\n"
     ]
    }
   ],
   "source": [
    "if (len(sys.argv) == 2 and sys.argv[1] == \"auth\"):\n",
    "# Sample authenticaton to Twitter\n",
    "    auth = tweepy.OAuthHandler(CONSUMER_KEY, CONSUMER_SECRET)\n",
    "    auth.set_access_token(ACCESS_TOKEN, ACCESS_TOKEN_SECRET)\n",
    "\n",
    "    api = tweepy.API(auth, wait_on_rate_limit=True, wait_on_rate_limit_notify=True)\n",
    "\n",
    "    try:\n",
    "        api.verify_credentials()\n",
    "        print(\"Authentication OK\")\n",
    "    except:\n",
    "        print(\"Error during authentication\")\n",
    "elif (len(sys.argv) == 2 and sys.argv[1] == \"sample\"):\n",
    "    auth = tweepy.OAuthHandler(CONSUMER_KEY, CONSUMER_SECRET)\n",
    "    auth.set_access_token(ACCESS_TOKEN, ACCESS_TOKEN_SECRET)\n",
    "\n",
    "    api = tweepy.API(auth, wait_on_rate_limit=True, wait_on_rate_limit_notify=True)\n",
    "\n",
    "    search_term = \"Python\"\n",
    "\n",
    "    tweets = []\n",
    "    for tweet in tweepy.Cursor(api.search, q=search_term, lang=\"en\", tweet_mode=\"extended\").items(20):\n",
    "        if (\"retweeted_status\" in dir(tweet)):\n",
    "            print(tweet.retweeted_status.full_text.replace(\"\\n\", \", \"))\n",
    "        else:\n",
    "            print(tweet.full_text.replace(\"\\n\", \", \"))\n",
    "\n",
    "else:\n",
    "    print(\"Usage: twitter.py [auth|sample]\")"
   ]
  },
  {
   "cell_type": "code",
   "execution_count": 6,
   "metadata": {},
   "outputs": [],
   "source": [
    "def getTweets(username, count=10):\n",
    "    timeline = api.user_timeline(username, count=count)\n",
    "    tweets = [tweet.text.encode('utf-8').translate(None, '!.,?') for tweet in timeline]\n",
    "    return tweets\n",
    "\n",
    "def cleanTweets(tweets):\n",
    "    clean_data = []\n",
    "    for tweet in tweets:\n",
    "        item = ' '.join(word.lower() for word in tweet.split() \\\n",
    "                        if not word.startswith('#') and \\\n",
    "                        not word.startswith('@') and \\\n",
    "                        not word.startswith('http') and \\\n",
    "                        not word.startswith('RT'))\n",
    "        if item == \"\" or item == \"RT\":\n",
    "            continue\n",
    "            clean_data.append(item)\n",
    "    return clean_data\n",
    "\n",
    "def getTrainData():\n",
    "    positives, negatives, traindata = [], [], []\n",
    "    for filename in os.listdir(\"train\"):\n",
    "        if filename == \"positives.txt\":\n",
    "            with open('train/'+filename) as f:\n",
    "                positives = [(tweet, 'pos') for tweet in f.readlines()]\n",
    "        if filename == \"negatives.txt\":\n",
    "            with open('train/'+filename) as f:\n",
    "                negatives = [(tweet, 'neg') for tweet in f.readlines()]\n",
    "\n",
    "    for (words, sentiment) in negatives + positives:\n",
    "        words_filtered = [e for e in words.split() if len(e) > 2]\n",
    "        traindata.append((words_filtered, sentiment))\n",
    "\n",
    "    return traindata\n",
    "\n",
    "def export(filename, data, p):\n",
    "    with open(filename, p) as output:\n",
    "        for line in data:\n",
    "            output.write(line)"
   ]
  },
  {
   "cell_type": "code",
   "execution_count": 7,
   "metadata": {},
   "outputs": [],
   "source": [
    "usernames = ['sertaberener', 'DemetAkalin', 'hulyavsar', 'sertaberener', 'gulbenergen', 'MuratBoz', 'Niltakipte']\n",
    "count = 200"
   ]
  },
  {
   "cell_type": "code",
   "execution_count": 10,
   "metadata": {},
   "outputs": [
    {
     "ename": "NameError",
     "evalue": "name 'getTweets' is not defined",
     "output_type": "error",
     "traceback": [
      "\u001b[0;31m---------------------------------------------------------------------------\u001b[0m",
      "\u001b[0;31mNameError\u001b[0m                                 Traceback (most recent call last)",
      "\u001b[0;32m<ipython-input-10-c2571a4f5c54>\u001b[0m in \u001b[0;36m<module>\u001b[0;34m\u001b[0m\n\u001b[1;32m      1\u001b[0m \u001b[0;32mfor\u001b[0m \u001b[0musername\u001b[0m \u001b[0;32min\u001b[0m \u001b[0musernames\u001b[0m\u001b[0;34m:\u001b[0m\u001b[0;34m\u001b[0m\u001b[0;34m\u001b[0m\u001b[0m\n\u001b[0;32m----> 2\u001b[0;31m     \u001b[0mtweets\u001b[0m \u001b[0;34m=\u001b[0m \u001b[0mcleanTweets\u001b[0m\u001b[0;34m(\u001b[0m\u001b[0mgetTweets\u001b[0m\u001b[0;34m(\u001b[0m\u001b[0musername\u001b[0m\u001b[0;34m,\u001b[0m \u001b[0mcount\u001b[0m\u001b[0;34m)\u001b[0m\u001b[0;34m)\u001b[0m\u001b[0;34m\u001b[0m\u001b[0;34m\u001b[0m\u001b[0m\n\u001b[0m\u001b[1;32m      3\u001b[0m     \u001b[0mexport\u001b[0m\u001b[0;34m(\u001b[0m\u001b[0;34m\"data/\"\u001b[0m\u001b[0;34m+\u001b[0m\u001b[0musername\u001b[0m\u001b[0;34m+\u001b[0m\u001b[0;34m\"-tweets.txt\"\u001b[0m\u001b[0;34m,\u001b[0m \u001b[0mtweets\u001b[0m\u001b[0;34m,\u001b[0m \u001b[0;34m\"w\"\u001b[0m\u001b[0;34m)\u001b[0m\u001b[0;34m\u001b[0m\u001b[0;34m\u001b[0m\u001b[0m\n",
      "\u001b[0;31mNameError\u001b[0m: name 'getTweets' is not defined"
     ]
    }
   ],
   "source": [
    "for username in usernames:\n",
    "    tweets = cleanTweets(getTweets(username, count))\n",
    "    export(\"data/\"+username+\"-tweets.txt\", tweets, \"w\")"
   ]
  },
  {
   "cell_type": "code",
   "execution_count": null,
   "metadata": {},
   "outputs": [],
   "source": []
  }
 ],
 "metadata": {
  "kernelspec": {
   "display_name": "Python 3",
   "language": "python",
   "name": "python3"
  },
  "language_info": {
   "codemirror_mode": {
    "name": "ipython",
    "version": 3
   },
   "file_extension": ".py",
   "mimetype": "text/x-python",
   "name": "python",
   "nbconvert_exporter": "python",
   "pygments_lexer": "ipython3",
   "version": "3.7.4"
  }
 },
 "nbformat": 4,
 "nbformat_minor": 2
}
